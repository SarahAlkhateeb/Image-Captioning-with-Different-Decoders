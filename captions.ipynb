{
 "metadata": {
  "language_info": {
   "codemirror_mode": {
    "name": "ipython",
    "version": 3
   },
   "file_extension": ".py",
   "mimetype": "text/x-python",
   "name": "python",
   "nbconvert_exporter": "python",
   "pygments_lexer": "ipython3",
   "version": "3.8.5-final"
  },
  "orig_nbformat": 2,
  "kernelspec": {
   "name": "python3",
   "display_name": "Python 3",
   "language": "python"
  }
 },
 "nbformat": 4,
 "nbformat_minor": 2,
 "cells": [
  {
   "cell_type": "code",
   "execution_count": 12,
   "metadata": {},
   "outputs": [],
   "source": [
    "from torch.nn.utils.rnn import pad_sequence\n",
    "from torchvision import transforms\n",
    "from dataset import COCODataset\n",
    "from vocabulary import END_TOKEN, PAD_TOKEN, START_TOKEN, Vocabulary\n",
    "from checkpoint import save_checkpoint, load_checkpoint, unpack_checkpoint\n"
   ]
  },
  {
   "cell_type": "code",
   "execution_count": 15,
   "metadata": {},
   "outputs": [
    {
     "output_type": "stream",
     "name": "stdout",
     "text": [
      "loading annotations into memory...\n",
      "Done (t=0.29s)\n",
      "creating index...\n",
      "index created!\n"
     ]
    }
   ],
   "source": [
    "img_transform = transforms.Compose([\n",
    "        transforms.Resize((224, 224)),\n",
    "        transforms.ToTensor(),\n",
    "        transforms.Normalize((0.485, 0.456, 0.406),\n",
    "                             (0.229, 0.224, 0.225))])\n",
    "dataset = COCODataset(\n",
    "    mode='val', img_transform=img_transform, caption_max_len=-1)\n",
    "\n",
    "vocab = dataset.vocab\n",
    "\n",
    "# Collate function for dataloader.\n",
    "pad_idx = dataset.vocab(PAD_TOKEN)\n",
    "def collate_fn(data):\n",
    "    imgs, captions, img_paths, _ = zip(*data)\n",
    "\n",
    "    imgs = torch.stack(imgs, dim=0)\n",
    "    captions = pad_sequence(\n",
    "        captions, batch_first=True, padding_value=pad_idx)\n",
    "    caption_lengths = [len(caption) for caption in captions]\n",
    "\n",
    "    return imgs, captions, caption_lengths, img_paths\n",
    "\n",
    "# Dataloader.\n",
    "val_loader = torch.utils.data.DataLoader(\n",
    "    dataset=dataset,\n",
    "    batch_size=1,\n",
    "    shuffle=True,\n",
    "    num_workers=1,\n",
    "    collate_fn=collate_fn)"
   ]
  },
  {
   "cell_type": "code",
   "execution_count": 20,
   "metadata": {
    "tags": []
   },
   "outputs": [],
   "source": [
    "baseline = torch.load('checkpoints/baseline_3.pth.tar')\n",
    "baseline_glove = torch.load('checkpoints/glove_baseline_3.pth.tar')\n",
    "att_basic = torch.load('checkpoints/basic_att_3.pth.tar')\n",
    "att_glove = torch.load('checkpoints/glove_att_3.pth.tar')\n",
    "att_bert = torch.load('checkpoints/bert_attention_3.pth.tar')"
   ]
  },
  {
   "cell_type": "code",
   "execution_count": 18,
   "metadata": {},
   "outputs": [
    {
     "output_type": "stream",
     "name": "stdout",
     "text": [
      "Image path: cocoapi/images/val2014/COCO_val2014_000000285727.jpg\n"
     ]
    },
    {
     "output_type": "error",
     "ename": "NameError",
     "evalue": "name 'encoder' is not defined",
     "traceback": [
      "\u001b[0;31m---------------------------------------------------------------------------\u001b[0m",
      "\u001b[0;31mNameError\u001b[0m                                 Traceback (most recent call last)",
      "\u001b[0;32m<ipython-input-18-604b4b912b8a>\u001b[0m in \u001b[0;36m<module>\u001b[0;34m\u001b[0m\n\u001b[1;32m      5\u001b[0m     \u001b[0mprint\u001b[0m\u001b[0;34m(\u001b[0m\u001b[0;34mf'Image path: {img_path}'\u001b[0m\u001b[0;34m)\u001b[0m\u001b[0;34m\u001b[0m\u001b[0;34m\u001b[0m\u001b[0m\n\u001b[1;32m      6\u001b[0m \u001b[0;34m\u001b[0m\u001b[0m\n\u001b[0;32m----> 7\u001b[0;31m     \u001b[0mimg_features\u001b[0m \u001b[0;34m=\u001b[0m \u001b[0mencoder\u001b[0m\u001b[0;34m(\u001b[0m\u001b[0mimgs\u001b[0m\u001b[0;34m)\u001b[0m\u001b[0;34m\u001b[0m\u001b[0;34m\u001b[0m\u001b[0m\n\u001b[0m\u001b[1;32m      8\u001b[0m     \u001b[0mscores\u001b[0m \u001b[0;34m=\u001b[0m \u001b[0mdecoder\u001b[0m\u001b[0;34m(\u001b[0m\u001b[0mimg_features\u001b[0m\u001b[0;34m,\u001b[0m \u001b[0mcaptions\u001b[0m\u001b[0;34m)\u001b[0m\u001b[0;34m\u001b[0m\u001b[0;34m\u001b[0m\u001b[0m\n\u001b[1;32m      9\u001b[0m \u001b[0;34m\u001b[0m\u001b[0m\n",
      "\u001b[0;31mNameError\u001b[0m: name 'encoder' is not defined"
     ]
    }
   ],
   "source": [
    "for batch_idx, (imgs, captions, caption_lengths, img_paths) in enumerate(val_loader):\n",
    "    \n",
    "    # Batch size is 1\n",
    "    img_path = img_paths[0]\n",
    "    print(f'Image path: {img_path}')\n",
    "\n",
    "\n",
    "    img_features = encoder(imgs)\n",
    "    scores = decoder(img_features, captions)\n",
    "\n",
    "    # Hypotheses\n",
    "    \n",
    "\n",
    "    print(scores)\n",
    "\n",
    "    if batch_idx == 5:\n",
    "        break"
   ]
  },
  {
   "cell_type": "code",
   "execution_count": null,
   "metadata": {},
   "outputs": [],
   "source": []
  }
 ]
}