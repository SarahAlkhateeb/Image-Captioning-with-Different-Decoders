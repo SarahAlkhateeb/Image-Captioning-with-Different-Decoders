{
 "metadata": {
  "language_info": {
   "codemirror_mode": {
    "name": "ipython",
    "version": 3
   },
   "file_extension": ".py",
   "mimetype": "text/x-python",
   "name": "python",
   "nbconvert_exporter": "python",
   "pygments_lexer": "ipython3",
   "version": "3.7.4-final"
  },
  "orig_nbformat": 2,
  "kernelspec": {
   "name": "python3",
   "display_name": "Python 3",
   "language": "python"
  }
 },
 "nbformat": 4,
 "nbformat_minor": 2,
 "cells": [
  {
   "cell_type": "code",
   "execution_count": 3,
   "metadata": {},
   "outputs": [],
   "source": [
    "import json\n",
    "from IPython.core.display import display\n",
    "import matplotlib.pyplot as plt\n",
    "\n",
    "\n",
    "\n",
    "from tabulate import tabulate"
   ]
  },
  {
   "cell_type": "code",
   "execution_count": 6,
   "metadata": {},
   "outputs": [],
   "source": [
    "from statistics import mean\n",
    "\n",
    "def get_metrices(model,json_file):\n",
    "    with open(json_file) as json_file: \n",
    "        metrices = json.load(json_file)\n",
    "    mean_metrices=[model]\n",
    "    #print(metrices.values())\n",
    "    for key in metrices.keys():\n",
    "        if key == 'losses':\n",
    "            mean_metrices.append(f'{mean(metrices[key]):.4f}')\n",
    "        elif key == 'METEOR' or key == 'CIDEr':\n",
    "            pass\n",
    "        elif key == 'Bleu_4':\n",
    "            mean_metrices.append(model)\n",
    "            mean_metrices.append(f'{metrices[key]:.4f}')\n",
    "        else: \n",
    "            mean_metrices.append(f'{metrices[key]:.4f}')\n",
    "    return mean_metrices\n"
   ]
  },
  {
   "cell_type": "code",
   "execution_count": 7,
   "metadata": {
    "tags": []
   },
   "outputs": [
    {
     "output_type": "stream",
     "name": "stdout",
     "text": [
      "['Baseline', '0.4930', '0.3101', '0.1985', 'Baseline', '0.1306', '0.4779', '2.1997']\n"
     ]
    }
   ],
   "source": [
    "print(get_metrices('Baseline','eval_data/baseline_3.json'))"
   ]
  },
  {
   "cell_type": "code",
   "execution_count": 12,
   "metadata": {
    "tags": []
   },
   "outputs": [],
   "source": [
    "baseline = get_metrices('Baseline','eval_data/baseline_3.json')\n",
    "basic_att = get_metrices('Attention','eval_data/basic_att_3.json')\n",
    "bert_att = get_metrices('Attention with BERT','eval_data/bert_attention_3.json')\n",
    "glove_att = get_metrices('Attention with Glove','eval_data/glove_att_3.json')\n",
    "glove_baseline = get_metrices('Baseline with Glove','eval_data/glove_baseline_3.json')\n",
    "\n",
    "\n"
   ]
  },
  {
   "cell_type": "code",
   "execution_count": 14,
   "metadata": {},
   "outputs": [
    {
     "output_type": "stream",
     "name": "stdout",
     "text": [
      "\\begin{tabular}{llll}\n\\hline\n Model                & Bleu\\_1 & Bleu\\_2 & Bleu\\_3 \\\\\n Baseline             & 0.4930 & 0.3101 & 0.1985 \\\\\n Baseline with Glove  & 0.4901 & 0.3074 & 0.1959 \\\\\n Attention            & 0.4750 & 0.2964 & 0.1872 \\\\\n Attention with Glove & 0.4982 & 0.3175 & 0.2046 \\\\\n Attention with BERT  & 0.6945 & 0.5645 & 0.4651 \\\\\n\\hline\n\\end{tabular}\n"
     ]
    }
   ],
   "source": [
    "\n",
    "print(tabulate([['Model','Bleu_1', 'Bleu_2', 'Bleu_3' ],baseline[:4],glove_baseline[:4],basic_att[:4],glove_att[:4],bert_att[:4]], tablefmt=\"latex\"))"
   ]
  },
  {
   "cell_type": "code",
   "execution_count": 15,
   "metadata": {},
   "outputs": [
    {
     "output_type": "stream",
     "name": "stdout",
     "text": [
      "\\begin{tabular}{llll}\n\\hline\n Model                & Bleu\\_4 & ROUGE\\_L & loss   \\\\\n Baseline             & 0.1306 & 0.4779  & 2.1997 \\\\\n Baseline with Glove  & 0.1282 & 0.4772  & 2.2058 \\\\\n Attention            & 0.1208 & 0.4631  & 3.4244 \\\\\n Attention with Glove & 0.1347 & 0.4850  & 3.2496 \\\\\n Attention with BERT  & 0.3872 & 0.6881  & 2.3319 \\\\\n\\hline\n\\end{tabular}\n"
     ]
    }
   ],
   "source": [
    "print(tabulate([['Model', 'Bleu_4', 'ROUGE_L', 'loss', ],baseline[4:],glove_baseline[4:],basic_att[4:],glove_att[4:],bert_att[4:]], tablefmt=\"latex\"))"
   ]
  },
  {
   "cell_type": "code",
   "execution_count": null,
   "metadata": {},
   "outputs": [],
   "source": []
  }
 ]
}