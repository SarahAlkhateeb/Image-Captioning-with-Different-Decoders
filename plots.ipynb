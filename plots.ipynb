{
 "cells": [
  {
   "cell_type": "code",
   "execution_count": 4,
   "metadata": {},
   "outputs": [],
   "source": [
    "import sys\n",
    "sys.path.append('cocoapi/PythonAPI/')\n",
    "from IPython.core.display import display\n",
    "import matplotlib.pyplot as plt\n",
    "import torch\n",
    "from checkpoint import load_checkpoint"
   ]
  },
  {
   "cell_type": "code",
   "execution_count": 6,
   "metadata": {},
   "outputs": [],
   "source": [
    "device = torch.device('cuda' if torch.cuda.is_available() else 'cpu')\n",
    "\n",
    "chkpt = torch.load('checkpoints/bert_attention_3.pth.tar', map_location=str(device))"
   ]
  },
  {
   "cell_type": "code",
   "execution_count": 7,
   "metadata": {},
   "outputs": [
    {
     "data": {
      "text/plain": [
       "dict_keys(['epoch', 'metrics', 'encoder', 'decoder', 'encoder_optimizer', 'decoder_optimizer'])"
      ]
     },
     "metadata": {},
     "output_type": "display_data"
    }
   ],
   "source": [
    "display(chkpt.keys())"
   ]
  },
  {
   "cell_type": "code",
   "execution_count": 13,
   "metadata": {},
   "outputs": [
    {
     "data": {
      "image/png": "[encoded data removed]",
      "text/plain": [
       "<Figure size 432x288 with 1 Axes>"
      ]
     },
     "metadata": {
      "needs_background": "light"
     },
     "output_type": "display_data"
    }
   ],
   "source": [
    "epoch_losses = chkpt['metrics']['epoch_losses']\n",
    "\n",
    "\n",
    "def avg_losses(epoch_losses):\n",
    "    flatten = lambda lst: [item for sublst in lst for item in sublst]\n",
    "    all_losses = flatten(epoch_losses)\n",
    "    avg_all_losses = []\n",
    "    prev_losses_sum = 0\n",
    "    for i, loss in enumerate(all_losses):\n",
    "        avg_loss = (loss + prev_losses_sum)/(i+1)\n",
    "        avg_all_losses.append(avg_loss)   \n",
    "        prev_losses_sum += loss\n",
    "        \n",
    "    return avg_all_losses\n",
    "\n",
    "def create_losses_plot(title, avg_losses):\n",
    "    plt.plot(avg_losses, label='average loss')\n",
    "        \n",
    "    plt.xlabel(\"nr iteration\")\n",
    "    plt.legend(loc='upper right')\n",
    "    plt.title(title)\n",
    "        \n",
    "    plt.show()\n",
    "    \n",
    "    \n",
    "\n",
    "create_losses_plot('bert_attention training loss',avg_losses(epoch_losses))"
   ]
  },
  {
   "cell_type": "code",
   "execution_count": null,
   "metadata": {},
   "outputs": [],
   "source": [
    "\n"
   ]
  }
 ],
 "metadata": {
  "kernelspec": {
   "display_name": "Python 3",
   "language": "python",
   "name": "python3"
  },
  "language_info": {
   "codemirror_mode": {
    "name": "ipython",
    "version": 3
   },
   "file_extension": ".py",
   "mimetype": "text/x-python",
   "name": "python",
   "nbconvert_exporter": "python",
   "pygments_lexer": "ipython3",
   "version": "3.8.5"
  }
 },
 "nbformat": 4,
 "nbformat_minor": 2
}
