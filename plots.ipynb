{
 "cells": [
  {
   "cell_type": "code",
   "execution_count": 8,
   "metadata": {},
   "outputs": [],
   "source": [
    "import sys\n",
    "sys.path.append('cocoapi/PythonAPI/')\n",
    "from IPython.core.display import display\n",
    "import matplotlib.pyplot as plt\n",
    "import torch\n",
    "from checkpoint import load_checkpoint"
   ]
  },
  {
   "cell_type": "code",
   "execution_count": 6,
   "metadata": {},
   "outputs": [],
   "source": [
    "device = torch.device('cuda' if torch.cuda.is_available() else 'cpu')\n",
    "\n",
    "chkpt = torch.load('checkpoints/glove_baseline_3.pth.tar', map_location=str(device))"
   ]
  },
  {
   "cell_type": "code",
   "execution_count": 10,
   "metadata": {},
   "outputs": [
    {
     "data": {
      "text/plain": [
       "dict_keys(['epoch', 'metrics', 'encoder', 'decoder', 'encoder_optimizer', 'decoder_optimizer'])"
      ]
     },
     "metadata": {},
     "output_type": "display_data"
    }
   ],
   "source": [
    "display(chkpt.keys())"
   ]
  },
  {
   "cell_type": "code",
   "execution_count": 51,
   "metadata": {},
   "outputs": [
    {
     "data": {
      "image/png": "[encoded data removed]",
      "text/plain": [
       "<Figure size 432x288 with 1 Axes>"
      ]
     },
     "metadata": {
      "needs_background": "light"
     },
     "output_type": "display_data"
    }
   ],
   "source": [
    "epoch_losses = chkpt['metrics']['epoch_losses']\n",
    "\n",
    "def avg_losses(epoch_losses):\n",
    "    flatten = lambda lst: [item for sublst in lst for item in sublst]\n",
    "    all_losses = flatten(epoch_losses)\n",
    "    avg_all_losses = []\n",
    "    prev_losses_sum = 0\n",
    "    for i, loss in enumerate(all_losses):\n",
    "        avg_loss = (loss + prev_losses_sum)/(i+1)\n",
    "        avg_all_losses.append(avg_loss)   \n",
    "        prev_losses_sum += loss\n",
    "        \n",
    "    return avg_all_losses\n",
    "\n",
    "def create_losses_plot(ax, losses):\n",
    "    pass\n",
    "    \n",
    "    \n",
    "\n",
    "plt.plot(avg_losses(epoch_losses))\n",
    "plt.show()"
   ]
  },
  {
   "cell_type": "code",
   "execution_count": null,
   "metadata": {},
   "outputs": [],
   "source": []
  }
 ],
 "metadata": {
  "kernelspec": {
   "display_name": "Python 3",
   "language": "python",
   "name": "python3"
  },
  "language_info": {
   "codemirror_mode": {
    "name": "ipython",
    "version": 3
   },
   "file_extension": ".py",
   "mimetype": "text/x-python",
   "name": "python",
   "nbconvert_exporter": "python",
   "pygments_lexer": "ipython3",
   "version": "3.8.5"
  }
 },
 "nbformat": 4,
 "nbformat_minor": 2
}
